{
 "cells": [
  {
   "cell_type": "markdown",
   "metadata": {},
   "source": [
    "## Visualising CMIP data\n",
    "In this lesson we are going to give an inro on how to work with NetCDF files in Python and create a quick plot of the ACCESS1-3 historical precipitation climatology data. "
   ]
  },
  {
   "cell_type": "code",
   "execution_count": null,
   "metadata": {},
   "outputs": [],
   "source": [
    "# Create a variable that represents the path of the NetCDF file we will be working with\n",
    "access_pr_file = '../data/pr_Amon_ACCESS1-3_historical_r1i1p1_200101-200512.nc'"
   ]
  },
  {
   "cell_type": "markdown",
   "metadata": {},
   "source": [
    "Import all the libraries that are needed for this section:"
   ]
  },
  {
   "cell_type": "code",
   "execution_count": null,
   "metadata": {},
   "outputs": [],
   "source": [
    "import xarray as xr\n",
    "import matplotlib.pyplot as plt\n",
    "import cartopy.crs as ccrs\n",
    "import numpy as np\n",
    "import cmocean"
   ]
  },
  {
   "cell_type": "markdown",
   "metadata": {},
   "source": [
    "Since geographic data files can often be very large, when we first open our data file in xarray it simply loads the metadata associated with the file (this is known as “lazy loading”). We can then view summary information about the contents of the file before deciding whether we’d like to load some or all of the data into memory."
   ]
  },
  {
   "cell_type": "code",
   "execution_count": null,
   "metadata": {},
   "outputs": [],
   "source": [
    "# The xarray library has the function xarray.open_dataset to load our file into an xarray dataset strucutre\n",
    "dset = xr.open_dataset(access_pr_file)"
   ]
  },
  {
   "cell_type": "code",
   "execution_count": null,
   "metadata": {
    "scrolled": true
   },
   "outputs": [],
   "source": [
    "# Print the dataset to have a look how the file is structured.\n",
    "print(dset)"
   ]
  },
  {
   "cell_type": "markdown",
   "metadata": {},
   "source": [
    "We can see that our dset object is an xarray.Dataset, which when printed shows all the metadata associated with our netCDF data file:  \n",
    "* Dimensions: lat, lon, time\n",
    "* Data variables: pr, lat, lon, time\n",
    "* Attributes: Describes the general dataset = metadata"
   ]
  },
  {
   "cell_type": "markdown",
   "metadata": {},
   "source": [
    "In this case, we are interested in the precipitation variable contained within that xarray Dataset:"
   ]
  },
  {
   "cell_type": "code",
   "execution_count": null,
   "metadata": {
    "scrolled": true
   },
   "outputs": [],
   "source": [
    "# Select the variable, the same way you would select a column in a Pandas Dataframe, using square brackets: \n",
    "dset[\"pr\"]\n",
    "\n",
    "#Print out this variable\n",
    "print(dset['pr']) # or dset.pr"
   ]
  },
  {
   "cell_type": "markdown",
   "metadata": {},
   "source": [
    "It returns a snippet of the values in the array, the coordinates and the attributes associated with the precipitation `xarray.Dataset`.\n",
    "\n",
    "We can actually use either the dset['pr'] or dset.pr syntax to access the precipitation xarray.DataArray."
   ]
  },
  {
   "cell_type": "markdown",
   "metadata": {},
   "source": [
    "### Aggregating data\n",
    "\n",
    "To calculate the precipitation climatology, we can make use of the fact that xarray DataArrays have built in functionality for averaging over their dimensions. We select the dimension 'time' here. We also want to display the attributes of the original object:"
   ]
  },
  {
   "cell_type": "code",
   "execution_count": null,
   "metadata": {
    "scrolled": true
   },
   "outputs": [],
   "source": [
    "clim = dset['pr'].mean('time', keep_attrs=True)\n",
    "print(clim)"
   ]
  },
  {
   "cell_type": "markdown",
   "metadata": {},
   "source": [
    "The coordinate 'time' has disappeared since we calculated the mean precipitation over the 'time' dimension."
   ]
  },
  {
   "cell_type": "markdown",
   "metadata": {},
   "source": [
    "### Calculations with arrays\n",
    "Now that we’ve calculated the climatology, we want to convert the units from kg m-2 s-1 to something that we are a little more familiar with like mm day-1.\n",
    "\n",
    "Convert the units from $kg \\: m^{-2} \\: s^{-1}$ to $mm \\: day^{-1}$.\n",
    "\n",
    "(You have to consider that:\n",
    "- $1 \\: kg$ of rain water spread over $1 \\: m^2$ of surface is $1 \\: mm$ in thickness;\n",
    "- there are $60 \\times 60 \\times 24 = 86400$ seconds in one day.\n",
    "\n",
    "Therefore, $1 kg \\: m^{-2} \\: s^{-1} = 86400 mm \\: day^{-1}$)"
   ]
  },
  {
   "cell_type": "code",
   "execution_count": null,
   "metadata": {},
   "outputs": [],
   "source": [
    "# Structure of the entire array\n",
    "print(type(clim))"
   ]
  },
  {
   "cell_type": "code",
   "execution_count": null,
   "metadata": {},
   "outputs": [],
   "source": [
    "# Strcutre of the data part in the clim array\n",
    "print(type(clim.data))"
   ]
  },
  {
   "cell_type": "markdown",
   "metadata": {},
   "source": [
    "The data associated with our xarray DataArray is a numpy array. We can go ahead and multiply that array by 86400 and update the units attribute accordingly:"
   ]
  },
  {
   "cell_type": "code",
   "execution_count": null,
   "metadata": {},
   "outputs": [],
   "source": [
    "clim.data = clim.data * 86400 #multiply only the data part of the array\n",
    "clim.attrs['units'] = 'mm/day' #adjust the attribute units\n",
    "clim"
   ]
  },
  {
   "cell_type": "markdown",
   "metadata": {},
   "source": [
    "##### NOTE on VECTORISATION\n",
    "In order to multiply every value in the array, note that there is no use of a for loop. The advantage of arrays and the homogeneity of the data it contains, is that it is possible to apply a certain function simulatiously over many values instead of a single value. This is called \"Vectorisation\"."
   ]
  },
  {
   "cell_type": "markdown",
   "metadata": {},
   "source": [
    "### Plotting arrays\n",
    "We could now go ahead and plot our climatology using matplotlib, but it would take many lines of code to extract all the latitude and longitude information and to setup all the plot characteristics. Recognising this burden, the xarray developers have built on top of matplotlib.pyplot to make the visualisation of xarray DataArrays much easier. \n",
    "\n",
    "Cartopy has exposed an interface to enable easy map creation using matplotlib. Creating a basic map involves telling matplotlib to use a specific map projection, and then adding some coastlines to the axes:\n",
    "\n",
    "(Use the built in `%matplotlib inline` magic command to make plots appear in the notebook rather than in a separate window.) "
   ]
  },
  {
   "cell_type": "code",
   "execution_count": null,
   "metadata": {},
   "outputs": [],
   "source": [
    "%matplotlib inline"
   ]
  },
  {
   "cell_type": "code",
   "execution_count": null,
   "metadata": {},
   "outputs": [],
   "source": [
    "fig = plt.figure(figsize=[12,5])  #create a new figure\n",
    "\n",
    "ax = fig.add_subplot(111, projection=ccrs.PlateCarree(central_longitude=180)) # Add an Axes to the figure \n",
    "\n",
    "#add  the filled contour plot to the already-set-up plot region\n",
    "clim.plot.contourf(ax=ax,\n",
    "                   levels=np.arange(0, 13.5, 1.5),\n",
    "                   extend='max',\n",
    "                   transform=ccrs.PlateCarree(),\n",
    "                   cbar_kwargs={'label': clim.units})\n",
    "\n",
    "\n",
    "ax.coastlines()                 \n",
    "plt.show()\n",
    "#plt.savefig('../fig/02-visualisation-viridis.svg')"
   ]
  },
  {
   "cell_type": "markdown",
   "metadata": {},
   "source": [
    "The default colorbar used by matplotlib is `viridis`. It used to be `jet`, but that was changed a couple of years ago in response to the [#endtherainbow](https://www.climate-lab-book.ac.uk/2014/end-of-the-rainbow/) campaign.\n",
    "\n",
    "Putting all the code together (and reversing viridis so that wet is purple and dry is yellow)..."
   ]
  },
  {
   "cell_type": "code",
   "execution_count": null,
   "metadata": {},
   "outputs": [],
   "source": [
    "import xarray as xr\n",
    "import matplotlib.pyplot as plt\n",
    "import cartopy.crs as ccrs\n",
    "import numpy as np\n",
    "\n",
    "access_pr_file = '../data/pr_Amon_ACCESS1-3_historical_r1i1p1_200101-200512.nc'\n",
    "\n",
    "dset = xr.open_dataset(access_pr_file)\n",
    "\n",
    "clim = dset['pr'].mean('time', keep_attrs=True)\n",
    "\n",
    "clim.data = clim.data * 86400\n",
    "clim.attrs['units'] = 'mm/day'\n",
    "\n",
    "fig = plt.figure(figsize=[12,5])\n",
    "ax = fig.add_subplot(111, projection=ccrs.PlateCarree(central_longitude=180))\n",
    "clim.plot.contourf(ax=ax,\n",
    "                   levels=np.arange(0, 13.5, 1.5),\n",
    "                   extend='max',\n",
    "                   transform=ccrs.PlateCarree(),\n",
    "                   cbar_kwargs={'label': clim.units},\n",
    "                   cmap='viridis_r') \n",
    "\n",
    "ax.coastlines()\n",
    "#plt.savefig('../fig/02-visualisation-viridis_r.svg')\n",
    "plt.show()"
   ]
  },
  {
   "cell_type": "markdown",
   "metadata": {},
   "source": [
    "**Challenge:** Copy and paste that slab of code into your own Jupyter notebook. Make the following additions/edits to the plot:  \n",
    "\n",
    "1. The viridis color palette doesn’t seem quite right for rainfall. Change it to the “haline” [cmocean](http://matplotlib.org/cmocean/) palette used for ocean salinity data. The **cmocean library** contains colormaps custom made for the ocean sciences.   \n",
    "\n",
    "2. Add a title to the plot which gives the name of the model (taken from the dset attributes, i.e `dset.attr`), followed by the words “precipitation climatology (JJA)”.  \n",
    "\n",
    "3. Rather than plot the annual climatology, edit the code so that it plots the June-August (JJA) season. HINT: the **groupby functionality** can be used to group all the data into seasons (`groupby('time.season')`) prior to averaging over the time axis.\n"
   ]
  },
  {
   "cell_type": "code",
   "execution_count": null,
   "metadata": {},
   "outputs": [],
   "source": [
    "import xarray as xr\n",
    "import matplotlib.pyplot as plt\n",
    "import cartopy.crs as ccrs\n",
    "import numpy as np\n",
    "\n",
    "access_pr_file = '../data/pr_Amon_ACCESS1-3_historical_r1i1p1_200101-200512.nc'\n",
    "\n",
    "dset = xr.open_dataset(access_pr_file)\n",
    "\n",
    "clim = dset['pr'].groupby('time.season').mean('time', keep_attrs=True) \n",
    "#clim = dset['pr'].mean('time', keep_attrs=True)\n",
    "\n",
    "clim.data = clim.data * 86400\n",
    "clim.attrs['units'] = 'mm/day'\n",
    "\n",
    "fig = plt.figure(figsize=[12,5])\n",
    "ax = fig.add_subplot(111, projection=ccrs.PlateCarree(central_longitude=180))\n",
    "clim.sel(season='JJA').plot.contourf(ax=ax,\n",
    "                   levels=np.arange(0, 13.5, 1.5),\n",
    "                   extend='max',\n",
    "                   transform=ccrs.PlateCarree(),\n",
    "                   cbar_kwargs={'label': clim.units},\n",
    "                   cmap=cmocean.cm.haline_r) \n",
    "\n",
    "title = '%s precipitation climatology (JJA)' %(dset.attrs['model_id'])\n",
    "plt.title(title)\n",
    "\n",
    "\n",
    "ax.coastlines()\n",
    "#plt.savefig('../fig/02-visualisation-viridis_r.svg')\n",
    "plt.show()\n"
   ]
  },
  {
   "cell_type": "code",
   "execution_count": null,
   "metadata": {},
   "outputs": [],
   "source": []
  }
 ],
 "metadata": {
  "kernelspec": {
   "display_name": "Python 3",
   "language": "python",
   "name": "python3"
  },
  "language_info": {
   "codemirror_mode": {
    "name": "ipython",
    "version": 3
   },
   "file_extension": ".py",
   "mimetype": "text/x-python",
   "name": "python",
   "nbconvert_exporter": "python",
   "pygments_lexer": "ipython3",
   "version": "3.7.8"
  }
 },
 "nbformat": 4,
 "nbformat_minor": 2
}
