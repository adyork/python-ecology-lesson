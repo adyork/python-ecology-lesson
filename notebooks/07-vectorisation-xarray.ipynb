{
 "cells": [
  {
   "cell_type": "markdown",
   "metadata": {},
   "source": [
    "# Vectorisation\n",
    "\n",
    "A requirement that we haven't yet addressed is the option to apply a land or ocean mask. To do this, we can use the corresponding land surface fraction file."
   ]
  },
  {
   "cell_type": "code",
   "execution_count": 1,
   "metadata": {},
   "outputs": [],
   "source": [
    "import xarray as xr\n",
    "import numpy as np"
   ]
  },
  {
   "cell_type": "code",
   "execution_count": 2,
   "metadata": {},
   "outputs": [],
   "source": [
    "access_sftlf_file = '../data/sftlf_fx_ACCESS1-3_historical_r0i0p0.nc'"
   ]
  },
  {
   "cell_type": "code",
   "execution_count": 3,
   "metadata": {},
   "outputs": [
    {
     "data": {
      "text/plain": [
       "<xarray.DataArray 'sftlf' (lat: 145, lon: 192)>\n",
       "array([[100., 100., 100., ..., 100., 100., 100.],\n",
       "       [100., 100., 100., ..., 100., 100., 100.],\n",
       "       [100., 100., 100., ..., 100., 100., 100.],\n",
       "       ...,\n",
       "       [  0.,   0.,   0., ...,   0.,   0.,   0.],\n",
       "       [  0.,   0.,   0., ...,   0.,   0.,   0.],\n",
       "       [  0.,   0.,   0., ...,   0.,   0.,   0.]], dtype=float32)\n",
       "Coordinates:\n",
       "  * lat      (lat) float64 -90.0 -88.75 -87.5 -86.25 -85.0 -83.75 -82.5 ...\n",
       "  * lon      (lon) float64 0.0 1.875 3.75 5.625 7.5 9.375 11.25 13.12 15.0 ...\n",
       "Attributes:\n",
       "    standard_name:     land_area_fraction\n",
       "    long_name:         Land Area Fraction\n",
       "    units:             %\n",
       "    original_units:    1\n",
       "    cell_measures:     area: areacella\n",
       "    associated_files:  baseURL: http://cmip-pcmdi.llnl.gov/CMIP5/dataLocation..."
      ]
     },
     "execution_count": 3,
     "metadata": {},
     "output_type": "execute_result"
    }
   ],
   "source": [
    "dset = xr.open_dataset(access_sftlf_file)\n",
    "sftlf = dset['sftlf']\n",
    "sftlf"
   ]
  },
  {
   "cell_type": "markdown",
   "metadata": {},
   "source": [
    "The data in a sftlf file assigns each grid cell a percentage value between 0% (no land) to 100% (all land)."
   ]
  },
  {
   "cell_type": "code",
   "execution_count": 4,
   "metadata": {},
   "outputs": [
    {
     "name": "stdout",
     "output_type": "stream",
     "text": [
      "100.0\n",
      "0.0\n"
     ]
    }
   ],
   "source": [
    "print(sftlf.data.max())\n",
    "print(sftlf.data.min())"
   ]
  },
  {
   "cell_type": "code",
   "execution_count": 5,
   "metadata": {},
   "outputs": [],
   "source": [
    "dset = xr.open_dataset('../data/pr_Amon_ACCESS1-3_historical_r1i1p1_200101-200512.nc')\n",
    "clim = dset['pr'].mean('time', keep_attrs=True)"
   ]
  },
  {
   "cell_type": "code",
   "execution_count": 6,
   "metadata": {},
   "outputs": [
    {
     "data": {
      "text/plain": [
       "<xarray.DataArray 'pr' (lat: 145, lon: 192)>\n",
       "array([[         nan,          nan,          nan, ...,          nan,\n",
       "                 nan,          nan],\n",
       "       [         nan,          nan,          nan, ...,          nan,\n",
       "                 nan,          nan],\n",
       "       [         nan,          nan,          nan, ...,          nan,\n",
       "                 nan,          nan],\n",
       "       ...,\n",
       "       [8.877672e-06, 8.903967e-06, 8.938327e-06, ..., 8.819357e-06,\n",
       "        8.859161e-06, 8.873179e-06],\n",
       "       [8.748589e-06, 8.739819e-06, 8.723918e-06, ..., 8.797057e-06,\n",
       "        8.776324e-06, 8.789103e-06],\n",
       "       [7.988647e-06, 7.988647e-06, 7.988647e-06, ..., 7.988647e-06,\n",
       "        7.988647e-06, 7.988647e-06]], dtype=float32)\n",
       "Coordinates:\n",
       "  * lat      (lat) float64 -90.0 -88.75 -87.5 -86.25 -85.0 -83.75 -82.5 ...\n",
       "  * lon      (lon) float64 0.0 1.875 3.75 5.625 7.5 9.375 11.25 13.12 15.0 ...\n",
       "Attributes:\n",
       "    standard_name:  precipitation_flux\n",
       "    long_name:      Precipitation\n",
       "    units:          kg m-2 s-1\n",
       "    cell_methods:   time: mean"
      ]
     },
     "execution_count": 6,
     "metadata": {},
     "output_type": "execute_result"
    }
   ],
   "source": [
    "nlats, nlons = clim.data.shape\n",
    "for y in range(nlats):\n",
    "    for x in range(nlons):\n",
    "        if sftlf.data[y, x] > 50:\n",
    "            clim.data[y, x] = np.nan\n",
    "clim"
   ]
  },
  {
   "cell_type": "markdown",
   "metadata": {},
   "source": [
    "For a given iris cube (e.g. containing precipitation data from the ACCESS1-3 model), we could then convert the data type to a numpy masked array and apply our mask:"
   ]
  },
  {
   "cell_type": "code",
   "execution_count": 15,
   "metadata": {},
   "outputs": [
    {
     "data": {
      "text/plain": [
       "<xarray.DataArray 'pr' (lat: 145, lon: 192)>\n",
       "array([[         nan,          nan,          nan, ...,          nan,\n",
       "                 nan,          nan],\n",
       "       [         nan,          nan,          nan, ...,          nan,\n",
       "                 nan,          nan],\n",
       "       [         nan,          nan,          nan, ...,          nan,\n",
       "                 nan,          nan],\n",
       "       ...,\n",
       "       [8.877672e-06, 8.903967e-06, 8.938327e-06, ..., 8.819357e-06,\n",
       "        8.859161e-06, 8.873179e-06],\n",
       "       [8.748589e-06, 8.739819e-06, 8.723918e-06, ..., 8.797057e-06,\n",
       "        8.776324e-06, 8.789103e-06],\n",
       "       [7.988647e-06, 7.988647e-06, 7.988647e-06, ..., 7.988647e-06,\n",
       "        7.988647e-06, 7.988647e-06]], dtype=float32)\n",
       "Coordinates:\n",
       "  * lon      (lon) float64 0.0 1.875 3.75 5.625 7.5 9.375 11.25 13.12 15.0 ...\n",
       "  * lat      (lat) float64 -90.0 -88.75 -87.5 -86.25 -85.0 -83.75 -82.5 ..."
      ]
     },
     "execution_count": 15,
     "metadata": {},
     "output_type": "execute_result"
    }
   ],
   "source": [
    "clim_ocean = clim.where(sftlf.data < 50)\n",
    "clim_ocean"
   ]
  },
  {
   "cell_type": "markdown",
   "metadata": {},
   "source": [
    "By printing the array we can see that some values are now masked:"
   ]
  }
 ],
 "metadata": {
  "kernelspec": {
   "display_name": "Python 3",
   "language": "python",
   "name": "python3"
  },
  "language_info": {
   "codemirror_mode": {
    "name": "ipython",
    "version": 3
   },
   "file_extension": ".py",
   "mimetype": "text/x-python",
   "name": "python",
   "nbconvert_exporter": "python",
   "pygments_lexer": "ipython3",
   "version": "3.6.6"
  }
 },
 "nbformat": 4,
 "nbformat_minor": 2
}
