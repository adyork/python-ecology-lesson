{
 "cells": [
  {
   "cell_type": "markdown",
   "metadata": {},
   "source": [
    "# Functions\n",
    "\n",
    "In the previous lesson we created a plot of the ACCESS1-3 historical precipitation climatology using the following commands:"
   ]
  },
  {
   "cell_type": "code",
   "execution_count": null,
   "metadata": {},
   "outputs": [],
   "source": [
    "import xarray as xr\n",
    "import matplotlib.pyplot as plt\n",
    "import cartopy.crs as ccrs\n",
    "import numpy as np\n",
    "import cmocean\n",
    "\n",
    "#import warnings\n",
    "#warnings.filterwarnings('ignore')"
   ]
  },
  {
   "cell_type": "code",
   "execution_count": null,
   "metadata": {},
   "outputs": [],
   "source": [
    "%matplotlib inline"
   ]
  },
  {
   "cell_type": "code",
   "execution_count": null,
   "metadata": {},
   "outputs": [],
   "source": [
    "access_pr_file = '../data/pr_Amon_ACCESS1-3_historical_r1i1p1_200101-200512.nc'\n",
    "\n",
    "dset = xr.open_dataset(access_pr_file)\n",
    "\n",
    "clim = dset['pr'].groupby('time.season').mean('time', keep_attrs=True)\n",
    "\n",
    "clim.data = clim.data * 86400\n",
    "clim.attrs['units'] = 'mm/day'\n",
    "\n",
    "fig = plt.figure(figsize=[12,5])\n",
    "ax = fig.add_subplot(111, projection=ccrs.PlateCarree(central_longitude=180))\n",
    "clim.sel(season='JJA').plot.contourf(ax=ax,\n",
    "                                     levels=np.arange(0, 13.5, 1.5),\n",
    "                                     extend='max',\n",
    "                                     transform=ccrs.PlateCarree(),\n",
    "                                     cbar_kwargs={'label': clim.units},\n",
    "                                     cmap=cmocean.cm.haline_r)\n",
    "ax.coastlines()\n",
    "\n",
    "title = '%s precipitation climatology (JJA)' %(dset.attrs['model_id'])\n",
    "plt.title(title)\n",
    "\n",
    "#plt.savefig('../fig/03-functions-access-jja.svg')\n",
    "plt.show()"
   ]
  },
  {
   "cell_type": "markdown",
   "metadata": {},
   "source": [
    "### Why using functions?\n",
    "If we wanted to create a similar plot for a different model and/or different month, we could cut and paste the code and edit accordingly. The problem with that (common) approach is that it increases the chances of a making a mistake. If we manually updated the month to 'Mar' for the `cube.extract` command but forgot to update it when calling `plt.title`, for instance, we'd have a mismatch between the data and title. \n",
    "\n",
    "The cut and paste approach is also much more time consuming. If we think of a better way to create this plot in future (e.g. we might want to add gridlines using `plt.gca().gridlines()`), then we have to find and update every copy and pasted instance of the code.\n",
    "\n",
    "A better approach is to put the code in a function. The code itself then remains untouched, and we simply call the function with different input arguments. "
   ]
  },
  {
   "cell_type": "code",
   "execution_count": null,
   "metadata": {},
   "outputs": [],
   "source": [
    "#Create the function, ask for file and seasons as specific input variables\n",
    "def plot_pr_climatology(pr_file, season, gridlines=False):\n",
    "    # Docstring = Description of your function: what does it do and description of the arguments that it needs.\n",
    "    \"\"\"Plot the precipitation climatology.\n",
    "    \n",
    "    Args:\n",
    "      pr_file (str): Precipitation data file\n",
    "      season (str): Season (3 letter abbreviation, e.g. JJA)\n",
    "      gridlines (bool): Select whether to plot gridlines\n",
    "    \n",
    "    \"\"\"\n",
    "    # Indentation of the whole block of code\n",
    "    dset = xr.open_dataset(pr_file)\n",
    "\n",
    "    clim = dset['pr'].groupby('time.season').mean('time', keep_attrs=True)\n",
    "\n",
    "    clim.data = clim.data * 86400\n",
    "    clim.attrs['units'] = 'mm/day'\n",
    "\n",
    "    fig = plt.figure(figsize=[12,5])\n",
    "    ax = fig.add_subplot(111, projection=ccrs.PlateCarree(central_longitude=180))\n",
    "    clim.sel(season=season).plot.contourf(ax=ax,\n",
    "                                          levels=np.arange(0, 13.5, 1.5),\n",
    "                                          extend='max',\n",
    "                                          transform=ccrs.PlateCarree(),\n",
    "                                          cbar_kwargs={'label': clim.units},\n",
    "                                          cmap=cmocean.cm.haline_r)\n",
    "    ax.coastlines()\n",
    "    \n",
    "    # Adding the boolean statement if gridlines should be included \n",
    "    if gridlines:\n",
    "        plt.gca().gridlines()\n",
    "    \n",
    "    title = '%s precipitation climatology (%s)' %(dset.attrs['model_id'], season)\n",
    "    plt.title(title)"
   ]
  },
  {
   "cell_type": "code",
   "execution_count": null,
   "metadata": {},
   "outputs": [],
   "source": [
    "plot_pr_climatology('../data/pr_Amon_ACCESS1-3_historical_r1i1p1_200101-200512.nc', 'JJA')\n",
    "plt.show()"
   ]
  },
  {
   "cell_type": "code",
   "execution_count": null,
   "metadata": {},
   "outputs": [],
   "source": [
    "plot_pr_climatology('../data/pr_Amon_CSIRO-Mk3-6-0_historical_r1i1p1_200101-200512.nc', 'DJF')\n",
    "plt.show()\n",
    "#plt.savefig('../fig/03-functions-csiro-djf.svg')"
   ]
  },
  {
   "cell_type": "markdown",
   "metadata": {},
   "source": [
    "The docstring allows us to have good documentation for our function:"
   ]
  },
  {
   "cell_type": "code",
   "execution_count": null,
   "metadata": {},
   "outputs": [],
   "source": [
    "help(plot_pr_climatology)"
   ]
  },
  {
   "cell_type": "markdown",
   "metadata": {},
   "source": [
    "and the optional input argument allows us to change the default behaviour if need be (keyword arguments are usually used for options that the user will only want to change occasionally). e.g."
   ]
  },
  {
   "cell_type": "code",
   "execution_count": null,
   "metadata": {},
   "outputs": [],
   "source": [
    "plot_pr_climatology('../data/pr_Amon_CSIRO-Mk3-6-0_historical_r1i1p1_200101-200512.nc',\n",
    "                    'DJF', gridlines=True)\n",
    "#plt.savefig('../fig/03-functions-csiro-djf-gridlines.svg')\n",
    "plt.show()"
   ]
  },
  {
   "cell_type": "markdown",
   "metadata": {},
   "source": [
    "### Short functions - Challenge\n",
    "Our function now works, but at 16 lines of code it's starting to get a little long. In general, people can only fit around 7-12 pieces of information in their short term memory. The readability of your code can therefore be greatly enhanced by keeping your functions short and sharp. The speed at which people can analyse their data is usually limited by the time it takes to read/understand/edit their code (as opposed to the time it takes the code to actually run), so the frequent use of short, well documented functions can dramatically speed up your data science."
   ]
  },
  {
   "cell_type": "markdown",
   "metadata": {},
   "source": [
    "\n",
    "1. Cut and paste the plot_pr_climatology function (defined in the notes above) into your own notebook and try running it with different input arguments.\n",
    "2. Break the contents of plot_pr_climatology down into a series of smaller functions, such that it reads as follows:\n",
    "\n",
    "In other words, you’ll need to define new , convert_pr_units and create_plot functions using code from the existing plot_pr_climatology function. "
   ]
  },
  {
   "cell_type": "code",
   "execution_count": null,
   "metadata": {},
   "outputs": [],
   "source": [
    "def plot_pr_climatology(pr_file, season, gridlines=False):\n",
    "    \"\"\"Plot the precipitation climatology.\n",
    "\n",
    "    Args:\n",
    "      pr_file (str): Precipitation data file\n",
    "      season (str): Season (3 letter abbreviation, e.g. JJA)\n",
    "      gridlines (bool): Select whether to plot gridlines\n",
    "\n",
    "    \"\"\"\n",
    "\n",
    "    dset = xr.open_dataset(pr_file)\n",
    "    clim = dset['pr'].groupby('time.season').mean('time', keep_attrs=True)\n",
    "    clim = convert_pr_units(clim)\n",
    "    create_plot(clim, dset.attrs['model_id'], season, gridlines=gridlines)\n",
    "    plt.show()\n",
    "\n"
   ]
  },
  {
   "cell_type": "markdown",
   "metadata": {},
   "source": [
    "In other words, you’ll need to define new , convert_pr_units and create_plot functions using code from the existing plot_pr_climatology function. "
   ]
  },
  {
   "cell_type": "markdown",
   "metadata": {},
   "source": [
    "Solution: "
   ]
  },
  {
   "cell_type": "code",
   "execution_count": null,
   "metadata": {},
   "outputs": [],
   "source": [
    "def convert_pr_units(darray):\n",
    "    \"\"\"Convert kg m-2 s-1 to mm day-1.\n",
    "   \n",
    "    Args:\n",
    "      darray (xarray.DataArray): Precipitation data\n",
    "   \n",
    "    \"\"\"\n",
    "   \n",
    "    darray.data = darray.data * 86400\n",
    "    darray.attrs['units'] = 'mm/day'\n",
    "   \n",
    "    return darray\n",
    "\n",
    "\n",
    "def create_plot(clim, model_name, season, gridlines=False):\n",
    "    \"\"\"Plot the precipitation climatology.\n",
    "   \n",
    "    Args:\n",
    "      clim (xarray.DataArray): Precipitation climatology data\n",
    "      season (str): Season    \n",
    "   \n",
    "    \"\"\"\n",
    "       \n",
    "    fig = plt.figure(figsize=[12,5])\n",
    "    ax = fig.add_subplot(111, projection=ccrs.PlateCarree(central_longitude=180))\n",
    "    clim.sel(season=season).plot.contourf(ax=ax,\n",
    "                                          levels=np.arange(0, 13.5, 1.5),\n",
    "                                          extend='max',\n",
    "                                          transform=ccrs.PlateCarree(),\n",
    "                                          cbar_kwargs={'label': clim.units},\n",
    "                                          cmap=cmocean.cm.haline_r)\n",
    "    ax.coastlines()\n",
    "    if gridlines:\n",
    "        plt.gca().gridlines()\n",
    "   \n",
    "    title = '%s precipitation climatology (%s)' %(model_name, season)\n",
    "    plt.title(title)\n",
    "\n",
    "\n",
    "def plot_pr_climatology(pr_file, season, gridlines=False):\n",
    "    \"\"\"Plot the precipitation climatology.\n",
    "\n",
    "    Args:\n",
    "      pr_file (str): Precipitation data file\n",
    "      season (str): Season (3 letter abbreviation, e.g. JJA)\n",
    "      gridlines (bool): Select whether to plot gridlines\n",
    "\n",
    "    \"\"\"\n",
    "\n",
    "    dset = xr.open_dataset(pr_file)\n",
    "    clim = dset['pr'].groupby('time.season').mean('time', keep_attrs=True)\n",
    "    clim = convert_pr_units(clim)\n",
    "    create_plot(clim, dset.attrs['model_id'], season, gridlines=gridlines)\n",
    "    plt.show()\n",
    "\n"
   ]
  }
 ],
 "metadata": {
  "kernelspec": {
   "display_name": "Python 3",
   "language": "python",
   "name": "python3"
  },
  "language_info": {
   "codemirror_mode": {
    "name": "ipython",
    "version": 3
   },
   "file_extension": ".py",
   "mimetype": "text/x-python",
   "name": "python",
   "nbconvert_exporter": "python",
   "pygments_lexer": "ipython3",
   "version": "3.7.8"
  }
 },
 "nbformat": 4,
 "nbformat_minor": 2
}
